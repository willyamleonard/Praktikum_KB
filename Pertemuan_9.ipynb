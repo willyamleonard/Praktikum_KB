{
 "cells": [
  {
   "cell_type": "code",
   "execution_count": 28,
   "metadata": {},
   "outputs": [],
   "source": [
    "import json\n",
    "from urllib.request import urlopen\n",
    "import numpy as np"
   ]
  },
  {
   "cell_type": "code",
   "execution_count": 3,
   "metadata": {},
   "outputs": [],
   "source": [
    "url=\" https://raw.githubusercontent.com/ashwaniYDV/sarcasm-detection-tensorflow/main/sarcasm.json\"\n",
    "data = urlopen(url) \n",
    "json_data = json.load(data)"
   ]
  },
  {
   "cell_type": "code",
   "execution_count": 4,
   "metadata": {},
   "outputs": [],
   "source": [
    "headline = [] #x\n",
    "is_sarcastic = [] #y label\n",
    "\n",
    "for x in json_data:\n",
    "    headline.append(x['headline'])\n",
    "    is_sarcastic.append(x['is_sarcastic'])"
   ]
  },
  {
   "cell_type": "code",
   "execution_count": 18,
   "metadata": {},
   "outputs": [
    {
     "name": "stdout",
     "output_type": "stream",
     "text": [
      "top snake handler leaves sinking huckabee campaign\n",
      "friday's morning email: inside trump's presser for the ages\n",
      "airline passengers tackle man who rushes cockpit in bomb threat\n",
      "facebook reportedly working on healthcare features and apps\n",
      "north korea praises trump and urges us voters to reject 'dull hillary'\n",
      "actually, cnn's jeffrey lord has been 'indefensible' for a while\n",
      "barcelona holds huge protest in support of refugees\n",
      "nuclear bomb detonates during rehearsal for 'spider-man' musical\n",
      "cosby lawyer asks why accusers didn't come forward to be smeared by legal team years ago\n",
      "stock analysts confused, frightened by boar market\n",
      "bloomberg's program to build better cities just got bigger\n",
      "craig hicks indicted\n",
      "courtroom sketch artist has clear manga influences\n",
      "trump assures nation that decision for syrian airstrikes came after carefully considering all his passing whims\n",
      "qatar deporting dutch woman who reported she was drugged and raped\n",
      "this is why you shouldn't go to the circus\n",
      "ted cruz hits the panic button: 'we could lose both houses of congress'\n",
      "why writers must plan to be surprised\n",
      "obama visits arlington national cemetery to honor veterans\n",
      "ex-con back behind bar\n",
      "after careful consideration, bush recommends oil drilling\n",
      "remembrance is the beginning of the task\n",
      "allies: islamist motive for killing nemtsov is nonsense\n",
      "gillian jacobs on what it's like to kiss adam brody\n",
      "uber vows to repay nyc drivers 'tens of millions' after tax snafu\n",
      "apple may have poached electric motorcycle company to death\n",
      "drug-resistant bacteria often lurk in children's, dogs' sandboxes\n",
      "if you see a muslim at the airport\n",
      "giant altoid heading toward earth\n",
      "'moana' sails straight to the top of the box office with massive $81.1 million opening\n",
      "selig counted money while baseball lost the next generation of fans\n",
      "robin williams inflicted on holiday moviegoers for eighth straight year\n",
      "devin nunes vows to 'never' reveal source of surveillance claims\n",
      "scott used to stop breathing nearly 40 times an hour. this device changed his life\n",
      "rescuers heroically help beached garbage back into ocean\n",
      "medics drop soccer player from stretcher; he's ticked\n",
      "give the gift of play this holiday season\n",
      "christian bale visits sikh temple victims\n",
      "spicer denies that ending maternity care guarantee would mean women pay more for health care\n",
      "'right to live life in complete, stunned horror,' added to constitution\n",
      "nasa now almost positive mars is rocky\n",
      "monster undeterred by night-light\n",
      "diy: sports equipment closet\n",
      "1 dead, 3 injured in shooting at t.i. concert in nyc\n",
      "longtime teacher retires without changing a single student's life\n",
      "donald trump heading for a series of wins in the northeast, polls say\n",
      "donald trump wouldn't have had the ready cash to self-finance entire campaign — analysis\n",
      "new 'star wars' film once again disappoints die-hard nien nunb fans\n",
      "bats shooed out of nation's waterslide tunnels in preparation for summer\n",
      "mobile news crew reports on own van breaking down\n",
      "un rights chief calls humanitarian situation in syria 'an outrage'\n",
      "how to track santa claus' flight around the world this christmas eve\n",
      "obama has colorado appraised\n",
      "trouble again in tv's africa\n",
      "brita unveils new in-throat water filters\n",
      "report: john grisham slowly but surely climbing list of greatest living american authors\n",
      "ghost can't make a simple cup of coffee without everyone freaking out\n",
      "tupperware will never truly recover from red curry leftovers\n",
      "one of the planet's most powerful forces for change? an adolescent girl\n"
     ]
    }
   ],
   "source": [
    "print(*headline[8:67],sep='\\n')"
   ]
  },
  {
   "cell_type": "code",
   "execution_count": 6,
   "metadata": {},
   "outputs": [
    {
     "name": "stdout",
     "output_type": "stream",
     "text": [
      "0\n",
      "0\n",
      "1\n",
      "1\n",
      "0\n"
     ]
    }
   ],
   "source": [
    "print(*is_sarcastic[:5],sep='\\n')"
   ]
  },
  {
   "cell_type": "markdown",
   "metadata": {},
   "source": [
    "### spliting"
   ]
  },
  {
   "cell_type": "code",
   "execution_count": 7,
   "metadata": {},
   "outputs": [],
   "source": [
    "from sklearn.model_selection import train_test_split"
   ]
  },
  {
   "cell_type": "code",
   "execution_count": 8,
   "metadata": {},
   "outputs": [],
   "source": [
    "x_train,x_test,y_train,y_test = train_test_split(\n",
    "    headline, is_sarcastic,test_size=0.2\n",
    ")"
   ]
  },
  {
   "cell_type": "markdown",
   "metadata": {},
   "source": [
    "### encoding word"
   ]
  },
  {
   "cell_type": "code",
   "execution_count": 9,
   "metadata": {},
   "outputs": [],
   "source": [
    "from tensorflow.keras.preprocessing.text import Tokenizer"
   ]
  },
  {
   "cell_type": "code",
   "execution_count": 11,
   "metadata": {},
   "outputs": [],
   "source": [
    "token = Tokenizer(num_words=25000)\n",
    "\n",
    "token.fit_on_texts(x_train)\n",
    "x_train_token= token.texts_to_sequences(x_train)\n",
    "x_test_token= token.texts_to_sequences(x_test)"
   ]
  },
  {
   "cell_type": "code",
   "execution_count": 12,
   "metadata": {},
   "outputs": [],
   "source": [
    "from tensorflow.keras.preprocessing.sequence import pad_sequences\n",
    "\n",
    "x_train_pad = pad_sequences(x_train_token, maxlen=None, padding =\"post\")\n",
    "x_test_pad = pad_sequences(x_test_token, maxlen=None, padding =\"post\")"
   ]
  },
  {
   "cell_type": "code",
   "execution_count": 13,
   "metadata": {},
   "outputs": [
    {
     "data": {
      "text/plain": [
       "(21367, 40)"
      ]
     },
     "execution_count": 13,
     "metadata": {},
     "output_type": "execute_result"
    }
   ],
   "source": [
    "x_train_pad.shape"
   ]
  },
  {
   "cell_type": "markdown",
   "metadata": {},
   "source": [
    "### modeling"
   ]
  },
  {
   "cell_type": "code",
   "execution_count": 15,
   "metadata": {},
   "outputs": [],
   "source": [
    "from tensorflow.keras import Sequential\n",
    "from tensorflow.keras.layers import LSTM, Embedding , Dense"
   ]
  },
  {
   "cell_type": "code",
   "execution_count": 51,
   "metadata": {},
   "outputs": [],
   "source": [
    "model= Sequential([\n",
    "    Embedding(input_dim=25000, input_length = 40,\n",
    "              output_dim=8),\n",
    "    LSTM(64, return_sequences=True),\n",
    "    LSTM(32),\n",
    "    Dense(1, activation='sigmoid' )\n",
    "])"
   ]
  },
  {
   "cell_type": "code",
   "execution_count": 52,
   "metadata": {},
   "outputs": [],
   "source": [
    "model.compile(\n",
    "    loss='binary_crossentropy',\n",
    "    optimizer='adam',\n",
    "    metrics=['accuracy']\n",
    ")"
   ]
  },
  {
   "cell_type": "markdown",
   "metadata": {},
   "source": [
    "### Early stopping"
   ]
  },
  {
   "cell_type": "code",
   "execution_count": 53,
   "metadata": {},
   "outputs": [],
   "source": [
    "from tensorflow.keras.callbacks import EarlyStopping\n",
    "early_stop = EarlyStopping(monitor= 'val_accuracy', patience=2)"
   ]
  },
  {
   "cell_type": "markdown",
   "metadata": {},
   "source": [
    "### training data "
   ]
  },
  {
   "cell_type": "code",
   "execution_count": 44,
   "metadata": {},
   "outputs": [],
   "source": [
    "x_train_pad = np.array(x_train_pad)\n",
    "x_test_pad = np.array(x_test_pad)\n",
    "y_test = np.array(y_test)\n",
    "y_train = np.array(y_train)\n"
   ]
  },
  {
   "cell_type": "code",
   "execution_count": 60,
   "metadata": {},
   "outputs": [
    {
     "name": "stdout",
     "output_type": "stream",
     "text": [
      "Epoch 1/50\n"
     ]
    },
    {
     "name": "stdout",
     "output_type": "stream",
     "text": [
      "535/535 [==============================] - 18s 34ms/step - loss: 0.0650 - accuracy: 0.9811 - val_loss: 0.6160 - val_accuracy: 0.8320\n",
      "Epoch 2/50\n",
      "535/535 [==============================] - 17s 31ms/step - loss: 0.0387 - accuracy: 0.9897 - val_loss: 0.7309 - val_accuracy: 0.8248\n",
      "Epoch 3/50\n",
      "535/535 [==============================] - 17s 31ms/step - loss: 0.0288 - accuracy: 0.9926 - val_loss: 0.8067 - val_accuracy: 0.8210\n"
     ]
    }
   ],
   "source": [
    "hasil = model.fit(\n",
    "    x_train_pad,\n",
    "    y_train,\n",
    "    epochs = 50,\n",
    "    validation_split = 0.2,\n",
    "    callbacks= early_stop,\n",
    ")"
   ]
  },
  {
   "cell_type": "code",
   "execution_count": 61,
   "metadata": {},
   "outputs": [
    {
     "name": "stdout",
     "output_type": "stream",
     "text": [
      "167/167 [==============================] - 1s 9ms/step - loss: 0.4276 - accuracy: 0.8353\n"
     ]
    },
    {
     "data": {
      "text/plain": [
       "[0.4276117980480194, 0.8352676630020142]"
      ]
     },
     "execution_count": 61,
     "metadata": {},
     "output_type": "execute_result"
    }
   ],
   "source": [
    "model.evaluate(x_test_pad, y_test)"
   ]
  },
  {
   "cell_type": "code",
   "execution_count": 56,
   "metadata": {},
   "outputs": [],
   "source": [
    "import matplotlib.pyplot as plt"
   ]
  },
  {
   "cell_type": "code",
   "execution_count": 62,
   "metadata": {},
   "outputs": [
    {
     "data": {
      "image/png": "[encoded data removed]",
      "text/plain": [
       "<Figure size 640x480 with 1 Axes>"
      ]
     },
     "metadata": {},
     "output_type": "display_data"
    }
   ],
   "source": [
    "plt.plot(hasil.history['accuracy'])\n",
    "plt.plot(hasil.history['val_accuracy'])\n",
    "plt.title('model accurancy')\n",
    "plt.ylabel('accuracy')\n",
    "plt.xlabel('epoch')\n",
    "plt.legend(['train', 'val'], loc='upper left')\n",
    "plt.show()"
   ]
  },
  {
   "cell_type": "code",
   "execution_count": 67,
   "metadata": {},
   "outputs": [],
   "source": [
    "text = ['No, Lauren Boeber Had Nothing To Do with That',\n",
    "        'Breaking news: wordl dsicovers a from that traffics jams']\n",
    "text_token = token.texts_to_sequences(text)\n",
    "text_token_pad = pad_sequences(text_token, maxlen=40, padding =\"post\")\n",
    "text_token_pad = np.array(text_token_pad)"
   ]
  },
  {
   "cell_type": "code",
   "execution_count": 70,
   "metadata": {},
   "outputs": [
    {
     "name": "stdout",
     "output_type": "stream",
     "text": [
      "1/1 [==============================] - 0s 44ms/step\n"
     ]
    },
    {
     "data": {
      "text/plain": [
       "array([['no sarcasm'],\n",
       "       ['sarcasm']], dtype='<U10')"
      ]
     },
     "execution_count": 70,
     "metadata": {},
     "output_type": "execute_result"
    }
   ],
   "source": [
    "pred = model.predict(text_token_pad)\n",
    "np.where(pred> 0.5,'sarcasm','no sarcasm')"
   ]
  },
  {
   "cell_type": "code",
   "execution_count": null,
   "metadata": {},
   "outputs": [],
   "source": []
  }
 ],
 "metadata": {
  "kernelspec": {
   "display_name": "willyam_049",
   "language": "python",
   "name": "python3"
  },
  "language_info": {
   "codemirror_mode": {
    "name": "ipython",
    "version": 3
   },
   "file_extension": ".py",
   "mimetype": "text/x-python",
   "name": "python",
   "nbconvert_exporter": "python",
   "pygments_lexer": "ipython3",
   "version": "3.10.7"
  }
 },
 "nbformat": 4,
 "nbformat_minor": 2
}
